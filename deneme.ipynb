{
 "metadata": {
  "language_info": {
   "codemirror_mode": {
    "name": "ipython",
    "version": 3
   },
   "file_extension": ".py",
   "mimetype": "text/x-python",
   "name": "python",
   "nbconvert_exporter": "python",
   "pygments_lexer": "ipython3",
   "version": "3.9.1"
  },
  "orig_nbformat": 4,
  "kernelspec": {
   "name": "python3",
   "display_name": "Python 3.9.1 64-bit"
  },
  "interpreter": {
   "hash": "a61478d5b201048564a33747355fbf0c12bd515b11889f1b1234c40d1e919672"
  }
 },
 "nbformat": 4,
 "nbformat_minor": 2,
 "cells": [
  {
   "cell_type": "code",
   "execution_count": 5,
   "metadata": {},
   "outputs": [
    {
     "output_type": "stream",
     "name": "stdout",
     "text": [
      "---------------------------------\n\n"
     ]
    },
    {
     "output_type": "execute_result",
     "data": {
      "text/plain": [
       "'d:\\\\MyCodes\\\\youtube Download\\\\Nasıl yazılımcı olunur Üniversite şart mı.mp4'"
      ]
     },
     "metadata": {},
     "execution_count": 5
    }
   ],
   "source": [
    "from pytube import YouTube\n",
    "yt = YouTube('https://www.youtube.com/watch?v=Sj9jhg9-djU')\n",
    "yt.streams\n",
    "print(\"---------------------------------\\n\")\n",
    "yt.streams.filter(progressive=\"True\")\n",
    "\n",
    "stream = yt.streams.get_by_itag(\"22\")\n",
    "stream.download(timeout=a)\n"
   ]
  },
  {
   "cell_type": "code",
   "execution_count": 1,
   "metadata": {},
   "outputs": [
    {
     "output_type": "execute_result",
     "data": {
      "text/plain": [
       "pytube.contrib.playlist.Playlist"
      ]
     },
     "metadata": {},
     "execution_count": 1
    }
   ],
   "source": [
    "from pytube import Playlist\n",
    "playlist = Playlist(\"https://www.youtube.com/playlist?list=PLh9ECzBB8tJPFTpuHKhYayis0H9pS6_rI\")\n",
    "type(playlist)"
   ]
  },
  {
   "cell_type": "code",
   "execution_count": null,
   "metadata": {},
   "outputs": [],
   "source": []
  }
 ]
}